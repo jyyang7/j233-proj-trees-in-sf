{
 "cells": [
  {
   "cell_type": "markdown",
   "metadata": {},
   "source": [
    "# Downloading data\n",
    "\n",
    "- The data I'm using for this project is the [Street Tree List]('https://data.sfgov.org/City-Infrastructure/Street-Tree-List/tkzw-k3nq') from San Francisco Department of Public Works. I downloaded the data on Nov. 6, 2022. At the time, the data set was last updated on Nov. 6, 2022 as well.\n",
    "- I created a copy of the data set and named it `original_street_tree_list.csv`. I then put the data set in the `raw-data` folder.\n"
   ]
  },
  {
   "cell_type": "markdown",
   "metadata": {},
   "source": [
    "# Explore the data"
   ]
  },
  {
   "cell_type": "code",
   "execution_count": 8,
   "metadata": {},
   "outputs": [],
   "source": [
    "# import packages\n",
    "import pandas as pd\n",
    "import altair as alt"
   ]
  },
  {
   "cell_type": "code",
   "execution_count": 9,
   "metadata": {},
   "outputs": [
    {
     "data": {
      "text/html": [
       "<div>\n",
       "<style scoped>\n",
       "    .dataframe tbody tr th:only-of-type {\n",
       "        vertical-align: middle;\n",
       "    }\n",
       "\n",
       "    .dataframe tbody tr th {\n",
       "        vertical-align: top;\n",
       "    }\n",
       "\n",
       "    .dataframe thead th {\n",
       "        text-align: right;\n",
       "    }\n",
       "</style>\n",
       "<table border=\"1\" class=\"dataframe\">\n",
       "  <thead>\n",
       "    <tr style=\"text-align: right;\">\n",
       "      <th></th>\n",
       "      <th>TreeID</th>\n",
       "      <th>qLegalStatus</th>\n",
       "      <th>qSpecies</th>\n",
       "      <th>qAddress</th>\n",
       "      <th>SiteOrder</th>\n",
       "      <th>qSiteInfo</th>\n",
       "      <th>PlantType</th>\n",
       "      <th>qCaretaker</th>\n",
       "      <th>qCareAssistant</th>\n",
       "      <th>PlantDate</th>\n",
       "      <th>...</th>\n",
       "      <th>XCoord</th>\n",
       "      <th>YCoord</th>\n",
       "      <th>Latitude</th>\n",
       "      <th>Longitude</th>\n",
       "      <th>Location</th>\n",
       "      <th>Fire Prevention Districts</th>\n",
       "      <th>Police Districts</th>\n",
       "      <th>Supervisor Districts</th>\n",
       "      <th>Zip Codes</th>\n",
       "      <th>Neighborhoods (old)</th>\n",
       "    </tr>\n",
       "  </thead>\n",
       "  <tbody>\n",
       "    <tr>\n",
       "      <th>0</th>\n",
       "      <td>217365</td>\n",
       "      <td>Section 806 (d)</td>\n",
       "      <td>Ceanothus 'Ray Hartman' :: California Lilac 'R...</td>\n",
       "      <td>707 Rockdale Dr</td>\n",
       "      <td>1.0</td>\n",
       "      <td>Sidewalk: Property side : Yard</td>\n",
       "      <td>Tree</td>\n",
       "      <td>Private</td>\n",
       "      <td>NaN</td>\n",
       "      <td>10/14/2021 12:00:00 AM</td>\n",
       "      <td>...</td>\n",
       "      <td>5.997488e+06</td>\n",
       "      <td>2.098235e+06</td>\n",
       "      <td>37.741209</td>\n",
       "      <td>-122.451285</td>\n",
       "      <td>(37.74120925101712, -122.45128526411095)</td>\n",
       "      <td>9.0</td>\n",
       "      <td>7.0</td>\n",
       "      <td>4.0</td>\n",
       "      <td>59.0</td>\n",
       "      <td>40.0</td>\n",
       "    </tr>\n",
       "    <tr>\n",
       "      <th>1</th>\n",
       "      <td>92771</td>\n",
       "      <td>DPW Maintained</td>\n",
       "      <td>Tristaniopsis laurina :: Swamp Myrtle</td>\n",
       "      <td>11X Blanken Ave</td>\n",
       "      <td>4.0</td>\n",
       "      <td>Sidewalk: Curb side : Cutout</td>\n",
       "      <td>Tree</td>\n",
       "      <td>Private</td>\n",
       "      <td>NaN</td>\n",
       "      <td>10/14/2021 12:00:00 AM</td>\n",
       "      <td>...</td>\n",
       "      <td>6.011718e+06</td>\n",
       "      <td>2.087394e+06</td>\n",
       "      <td>37.712247</td>\n",
       "      <td>-122.401320</td>\n",
       "      <td>(37.712246915438215, -122.40132023435935)</td>\n",
       "      <td>10.0</td>\n",
       "      <td>3.0</td>\n",
       "      <td>8.0</td>\n",
       "      <td>309.0</td>\n",
       "      <td>1.0</td>\n",
       "    </tr>\n",
       "    <tr>\n",
       "      <th>2</th>\n",
       "      <td>23904</td>\n",
       "      <td>DPW Maintained</td>\n",
       "      <td>Prunus subhirtella 'Pendula' :: Weeping Cherry</td>\n",
       "      <td>1600X Webster St</td>\n",
       "      <td>6.0</td>\n",
       "      <td>Median : Cutout</td>\n",
       "      <td>Tree</td>\n",
       "      <td>DPW</td>\n",
       "      <td>NaN</td>\n",
       "      <td>NaN</td>\n",
       "      <td>...</td>\n",
       "      <td>6.003596e+06</td>\n",
       "      <td>2.114195e+06</td>\n",
       "      <td>37.785380</td>\n",
       "      <td>-122.431304</td>\n",
       "      <td>(37.78537959802679, -122.43130418097743)</td>\n",
       "      <td>13.0</td>\n",
       "      <td>9.0</td>\n",
       "      <td>11.0</td>\n",
       "      <td>29490.0</td>\n",
       "      <td>13.0</td>\n",
       "    </tr>\n",
       "    <tr>\n",
       "      <th>3</th>\n",
       "      <td>28646</td>\n",
       "      <td>DPW Maintained</td>\n",
       "      <td>Prunus subhirtella 'Pendula' :: Weeping Cherry</td>\n",
       "      <td>1600X Webster St</td>\n",
       "      <td>7.0</td>\n",
       "      <td>Median : Cutout</td>\n",
       "      <td>Tree</td>\n",
       "      <td>DPW</td>\n",
       "      <td>NaN</td>\n",
       "      <td>NaN</td>\n",
       "      <td>...</td>\n",
       "      <td>6.003558e+06</td>\n",
       "      <td>2.114375e+06</td>\n",
       "      <td>37.785872</td>\n",
       "      <td>-122.431449</td>\n",
       "      <td>(37.78587163716589, -122.43144931782685)</td>\n",
       "      <td>13.0</td>\n",
       "      <td>9.0</td>\n",
       "      <td>11.0</td>\n",
       "      <td>29490.0</td>\n",
       "      <td>13.0</td>\n",
       "    </tr>\n",
       "    <tr>\n",
       "      <th>4</th>\n",
       "      <td>229807</td>\n",
       "      <td>DPW Maintained</td>\n",
       "      <td>Jacaranda mimosifolia :: Jacaranda</td>\n",
       "      <td>2560 Bryant St</td>\n",
       "      <td>1.0</td>\n",
       "      <td>Sidewalk: Curb side : Cutout</td>\n",
       "      <td>Tree</td>\n",
       "      <td>Private</td>\n",
       "      <td>NaN</td>\n",
       "      <td>NaN</td>\n",
       "      <td>...</td>\n",
       "      <td>6.009700e+06</td>\n",
       "      <td>2.102427e+06</td>\n",
       "      <td>37.753411</td>\n",
       "      <td>-122.409355</td>\n",
       "      <td>(37.75341142310638, -122.40935530851043)</td>\n",
       "      <td>2.0</td>\n",
       "      <td>4.0</td>\n",
       "      <td>7.0</td>\n",
       "      <td>28859.0</td>\n",
       "      <td>19.0</td>\n",
       "    </tr>\n",
       "  </tbody>\n",
       "</table>\n",
       "<p>5 rows × 23 columns</p>\n",
       "</div>"
      ],
      "text/plain": [
       "   TreeID     qLegalStatus                                           qSpecies  \\\n",
       "0  217365  Section 806 (d)  Ceanothus 'Ray Hartman' :: California Lilac 'R...   \n",
       "1   92771   DPW Maintained              Tristaniopsis laurina :: Swamp Myrtle   \n",
       "2   23904   DPW Maintained     Prunus subhirtella 'Pendula' :: Weeping Cherry   \n",
       "3   28646   DPW Maintained     Prunus subhirtella 'Pendula' :: Weeping Cherry   \n",
       "4  229807   DPW Maintained                 Jacaranda mimosifolia :: Jacaranda   \n",
       "\n",
       "           qAddress  SiteOrder                       qSiteInfo PlantType  \\\n",
       "0   707 Rockdale Dr        1.0  Sidewalk: Property side : Yard      Tree   \n",
       "1   11X Blanken Ave        4.0    Sidewalk: Curb side : Cutout      Tree   \n",
       "2  1600X Webster St        6.0                 Median : Cutout      Tree   \n",
       "3  1600X Webster St        7.0                 Median : Cutout      Tree   \n",
       "4    2560 Bryant St        1.0    Sidewalk: Curb side : Cutout      Tree   \n",
       "\n",
       "  qCaretaker qCareAssistant               PlantDate  ...        XCoord  \\\n",
       "0    Private            NaN  10/14/2021 12:00:00 AM  ...  5.997488e+06   \n",
       "1    Private            NaN  10/14/2021 12:00:00 AM  ...  6.011718e+06   \n",
       "2        DPW            NaN                     NaN  ...  6.003596e+06   \n",
       "3        DPW            NaN                     NaN  ...  6.003558e+06   \n",
       "4    Private            NaN                     NaN  ...  6.009700e+06   \n",
       "\n",
       "         YCoord   Latitude   Longitude  \\\n",
       "0  2.098235e+06  37.741209 -122.451285   \n",
       "1  2.087394e+06  37.712247 -122.401320   \n",
       "2  2.114195e+06  37.785380 -122.431304   \n",
       "3  2.114375e+06  37.785872 -122.431449   \n",
       "4  2.102427e+06  37.753411 -122.409355   \n",
       "\n",
       "                                    Location  Fire Prevention Districts  \\\n",
       "0   (37.74120925101712, -122.45128526411095)                        9.0   \n",
       "1  (37.712246915438215, -122.40132023435935)                       10.0   \n",
       "2   (37.78537959802679, -122.43130418097743)                       13.0   \n",
       "3   (37.78587163716589, -122.43144931782685)                       13.0   \n",
       "4   (37.75341142310638, -122.40935530851043)                        2.0   \n",
       "\n",
       "   Police Districts Supervisor Districts  Zip Codes  Neighborhoods (old)  \n",
       "0               7.0                  4.0       59.0                 40.0  \n",
       "1               3.0                  8.0      309.0                  1.0  \n",
       "2               9.0                 11.0    29490.0                 13.0  \n",
       "3               9.0                 11.0    29490.0                 13.0  \n",
       "4               4.0                  7.0    28859.0                 19.0  \n",
       "\n",
       "[5 rows x 23 columns]"
      ]
     },
     "execution_count": 9,
     "metadata": {},
     "output_type": "execute_result"
    }
   ],
   "source": [
    "# read csv file\n",
    "sf_trees_original = pd.read_csv('street_tree_list.csv')\n",
    "sf_trees_original.head()"
   ]
  },
  {
   "cell_type": "code",
   "execution_count": 12,
   "metadata": {},
   "outputs": [
    {
     "name": "stdout",
     "output_type": "stream",
     "text": [
      "<class 'pandas.core.frame.DataFrame'>\n",
      "RangeIndex: 196590 entries, 0 to 196589\n",
      "Data columns (total 23 columns):\n",
      " #   Column                     Non-Null Count   Dtype  \n",
      "---  ------                     --------------   -----  \n",
      " 0   TreeID                     196590 non-null  int64  \n",
      " 1   qLegalStatus               196533 non-null  object \n",
      " 2   qSpecies                   196590 non-null  object \n",
      " 3   qAddress                   195097 non-null  object \n",
      " 4   SiteOrder                  194796 non-null  float64\n",
      " 5   qSiteInfo                  196590 non-null  object \n",
      " 6   PlantType                  196590 non-null  object \n",
      " 7   qCaretaker                 196590 non-null  object \n",
      " 8   qCareAssistant             24707 non-null   object \n",
      " 9   PlantDate                  70878 non-null   object \n",
      " 10  DBH                        153021 non-null  float64\n",
      " 11  PlotSize                   146229 non-null  object \n",
      " 12  PermitNotes                53367 non-null   object \n",
      " 13  XCoord                     193644 non-null  float64\n",
      " 14  YCoord                     193644 non-null  float64\n",
      " 15  Latitude                   193644 non-null  float64\n",
      " 16  Longitude                  193644 non-null  float64\n",
      " 17  Location                   193644 non-null  object \n",
      " 18  Fire Prevention Districts  193393 non-null  float64\n",
      " 19  Police Districts           193446 non-null  float64\n",
      " 20  Supervisor Districts       193507 non-null  float64\n",
      " 21  Zip Codes                  193501 non-null  float64\n",
      " 22  Neighborhoods (old)        193503 non-null  float64\n",
      "dtypes: float64(11), int64(1), object(11)\n",
      "memory usage: 34.5+ MB\n"
     ]
    }
   ],
   "source": [
    "sf_trees_original.info()"
   ]
  },
  {
   "cell_type": "code",
   "execution_count": 14,
   "metadata": {},
   "outputs": [],
   "source": [
    "# Copy the original dataframe\n",
    "\n",
    "sf_trees = sf_trees_original.copy()"
   ]
  },
  {
   "cell_type": "code",
   "execution_count": 20,
   "metadata": {},
   "outputs": [
    {
     "data": {
      "text/plain": [
       "196590"
      ]
     },
     "execution_count": 20,
     "metadata": {},
     "output_type": "execute_result"
    }
   ],
   "source": [
    "# check if TreeID is unique\n",
    "sf_trees['TreeID'].nunique()"
   ]
  },
  {
   "cell_type": "code",
   "execution_count": 21,
   "metadata": {},
   "outputs": [
    {
     "data": {
      "text/plain": [
       "196590"
      ]
     },
     "execution_count": 21,
     "metadata": {},
     "output_type": "execute_result"
    }
   ],
   "source": [
    "len(sf_trees)"
   ]
  },
  {
   "cell_type": "markdown",
   "metadata": {},
   "source": [
    "Seems like there's no duplicated `TreeID`. There are 196590 thousand trees planted in SF as of Nov.6, 2022. "
   ]
  },
  {
   "cell_type": "code",
   "execution_count": 22,
   "metadata": {},
   "outputs": [],
   "source": [
    "# make sure the length of dataframe matches the number of unique IDs\n",
    "\n",
    "assert len(sf_trees) == sf_trees['TreeID'].nunique()"
   ]
  },
  {
   "cell_type": "markdown",
   "metadata": {},
   "source": [
    "- There are 196590 TreeID, but only 70878 have a plant date. \n",
    "- `PlantDate` should also be a date Dtype.\n",
    "- The `Zip Codes` are weird. There are some 2, 3 digit numbers.  "
   ]
  },
  {
   "cell_type": "code",
   "execution_count": 15,
   "metadata": {},
   "outputs": [],
   "source": [
    "# convert the `PlantDate` Column\n",
    "\n",
    "sf_trees['PlantDate'] = pd.to_datetime(sf_trees['PlantDate'])\n"
   ]
  },
  {
   "cell_type": "code",
   "execution_count": 7,
   "metadata": {},
   "outputs": [
    {
     "name": "stdout",
     "output_type": "stream",
     "text": [
      "<class 'pandas.core.frame.DataFrame'>\n",
      "RangeIndex: 196590 entries, 0 to 196589\n",
      "Data columns (total 23 columns):\n",
      " #   Column                     Non-Null Count   Dtype         \n",
      "---  ------                     --------------   -----         \n",
      " 0   TreeID                     196590 non-null  int64         \n",
      " 1   qLegalStatus               196533 non-null  object        \n",
      " 2   qSpecies                   196590 non-null  object        \n",
      " 3   qAddress                   195097 non-null  object        \n",
      " 4   SiteOrder                  194796 non-null  float64       \n",
      " 5   qSiteInfo                  196590 non-null  object        \n",
      " 6   PlantType                  196590 non-null  object        \n",
      " 7   qCaretaker                 196590 non-null  object        \n",
      " 8   qCareAssistant             24707 non-null   object        \n",
      " 9   PlantDate                  70878 non-null   datetime64[ns]\n",
      " 10  DBH                        153021 non-null  float64       \n",
      " 11  PlotSize                   146229 non-null  object        \n",
      " 12  PermitNotes                53367 non-null   object        \n",
      " 13  XCoord                     193644 non-null  float64       \n",
      " 14  YCoord                     193644 non-null  float64       \n",
      " 15  Latitude                   193644 non-null  float64       \n",
      " 16  Longitude                  193644 non-null  float64       \n",
      " 17  Location                   193644 non-null  object        \n",
      " 18  Fire Prevention Districts  193393 non-null  float64       \n",
      " 19  Police Districts           193446 non-null  float64       \n",
      " 20  Supervisor Districts       193507 non-null  float64       \n",
      " 21  Zip Codes                  193501 non-null  float64       \n",
      " 22  Neighborhoods (old)        193503 non-null  float64       \n",
      "dtypes: datetime64[ns](1), float64(11), int64(1), object(10)\n",
      "memory usage: 34.5+ MB\n"
     ]
    }
   ],
   "source": [
    "sf_trees.info()"
   ]
  },
  {
   "cell_type": "code",
   "execution_count": 18,
   "metadata": {},
   "outputs": [
    {
     "data": {
      "text/plain": [
       "Timestamp('2022-11-12 00:00:00')"
      ]
     },
     "execution_count": 18,
     "metadata": {},
     "output_type": "execute_result"
    }
   ],
   "source": [
    "sf_trees['PlantDate'].max()"
   ]
  },
  {
   "cell_type": "code",
   "execution_count": 19,
   "metadata": {},
   "outputs": [
    {
     "data": {
      "text/plain": [
       "Timestamp('1955-09-19 00:00:00')"
      ]
     },
     "execution_count": 19,
     "metadata": {},
     "output_type": "execute_result"
    }
   ],
   "source": [
    "sf_trees['PlantDate'].min()"
   ]
  },
  {
   "cell_type": "code",
   "execution_count": null,
   "metadata": {},
   "outputs": [],
   "source": []
  },
  {
   "cell_type": "code",
   "execution_count": null,
   "metadata": {},
   "outputs": [],
   "source": []
  },
  {
   "cell_type": "code",
   "execution_count": null,
   "metadata": {},
   "outputs": [],
   "source": []
  },
  {
   "cell_type": "code",
   "execution_count": null,
   "metadata": {},
   "outputs": [],
   "source": [
    "# check the columns\n",
    "\n"
   ]
  },
  {
   "cell_type": "code",
   "execution_count": null,
   "metadata": {},
   "outputs": [],
   "source": []
  }
 ],
 "metadata": {
  "interpreter": {
   "hash": "62352c0c754bd2ad159e97957680630ceea273ecdf509a0d6f389bc04235f721"
  },
  "kernelspec": {
   "display_name": "Python 3.8.13 ('base')",
   "language": "python",
   "name": "python3"
  },
  "language_info": {
   "codemirror_mode": {
    "name": "ipython",
    "version": 3
   },
   "file_extension": ".py",
   "mimetype": "text/x-python",
   "name": "python",
   "nbconvert_exporter": "python",
   "pygments_lexer": "ipython3",
   "version": "3.8.13"
  },
  "orig_nbformat": 4
 },
 "nbformat": 4,
 "nbformat_minor": 2
}
